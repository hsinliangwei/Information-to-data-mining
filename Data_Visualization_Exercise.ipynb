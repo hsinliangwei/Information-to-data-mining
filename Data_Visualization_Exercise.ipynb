{
 "cells": [
  {
   "cell_type": "markdown",
   "metadata": {
    "colab_type": "text",
    "id": "ggFUZOmm3V8H"
   },
   "source": [
    "## $\\Large{Data\\; Visualization\\; 練習題}$"
   ]
  },
  {
   "cell_type": "code",
   "execution_count": 1,
   "metadata": {
    "colab": {},
    "colab_type": "code",
    "id": "6KNEKLNu3V8H"
   },
   "outputs": [],
   "source": [
    "import pandas as pd\n",
    "import numpy as np\n",
    "import matplotlib.pyplot as plt\n",
    "import seaborn as sns\n",
    "\n",
    "%matplotlib inline"
   ]
  },
  {
   "cell_type": "markdown",
   "metadata": {},
   "source": [
    "## 範例資料"
   ]
  },
  {
   "cell_type": "code",
   "execution_count": 2,
   "metadata": {},
   "outputs": [
    {
     "data": {
      "text/html": [
       "<div>\n",
       "<style scoped>\n",
       "    .dataframe tbody tr th:only-of-type {\n",
       "        vertical-align: middle;\n",
       "    }\n",
       "\n",
       "    .dataframe tbody tr th {\n",
       "        vertical-align: top;\n",
       "    }\n",
       "\n",
       "    .dataframe thead th {\n",
       "        text-align: right;\n",
       "    }\n",
       "</style>\n",
       "<table border=\"1\" class=\"dataframe\">\n",
       "  <thead>\n",
       "    <tr style=\"text-align: right;\">\n",
       "      <th></th>\n",
       "      <th>country</th>\n",
       "      <th>description</th>\n",
       "      <th>designation</th>\n",
       "      <th>points</th>\n",
       "      <th>price</th>\n",
       "      <th>province</th>\n",
       "      <th>region_1</th>\n",
       "      <th>region_2</th>\n",
       "      <th>taster_name</th>\n",
       "      <th>taster_twitter_handle</th>\n",
       "      <th>title</th>\n",
       "      <th>variety</th>\n",
       "      <th>winery</th>\n",
       "      <th>variety_color</th>\n",
       "    </tr>\n",
       "  </thead>\n",
       "  <tbody>\n",
       "    <tr>\n",
       "      <th>77</th>\n",
       "      <td>Australia</td>\n",
       "      <td>This medium-bodied Chardonnay features aromas ...</td>\n",
       "      <td>Made With Organic Grapes</td>\n",
       "      <td>86</td>\n",
       "      <td>18.0</td>\n",
       "      <td>South Australia</td>\n",
       "      <td>South Australia</td>\n",
       "      <td>NaN</td>\n",
       "      <td>Joe Czerwinski</td>\n",
       "      <td>@JoeCz</td>\n",
       "      <td>Yalumba 2016 Made With Organic Grapes Chardonn...</td>\n",
       "      <td>Chardonnay</td>\n",
       "      <td>Yalumba</td>\n",
       "      <td>#440154</td>\n",
       "    </tr>\n",
       "    <tr>\n",
       "      <th>83</th>\n",
       "      <td>Australia</td>\n",
       "      <td>Pale copper in hue, this wine exudes passion f...</td>\n",
       "      <td>Jester Sangiovese</td>\n",
       "      <td>86</td>\n",
       "      <td>20.0</td>\n",
       "      <td>South Australia</td>\n",
       "      <td>McLaren Vale</td>\n",
       "      <td>NaN</td>\n",
       "      <td>Joe Czerwinski</td>\n",
       "      <td>@JoeCz</td>\n",
       "      <td>Mitolo 2016 Jester Sangiovese Rosé (McLaren Vale)</td>\n",
       "      <td>Rosé</td>\n",
       "      <td>Mitolo</td>\n",
       "      <td>#450558</td>\n",
       "    </tr>\n",
       "    <tr>\n",
       "      <th>123</th>\n",
       "      <td>Australia</td>\n",
       "      <td>The blend is roughly two-thirds Shiraz and one...</td>\n",
       "      <td>Parson's Flat</td>\n",
       "      <td>92</td>\n",
       "      <td>40.0</td>\n",
       "      <td>South Australia</td>\n",
       "      <td>Padthaway</td>\n",
       "      <td>NaN</td>\n",
       "      <td>Joe Czerwinski</td>\n",
       "      <td>@JoeCz</td>\n",
       "      <td>Henry's Drive Vignerons 2006 Parson's Flat Shi...</td>\n",
       "      <td>Shiraz-Cabernet Sauvignon</td>\n",
       "      <td>Henry's Drive Vignerons</td>\n",
       "      <td>#460B5E</td>\n",
       "    </tr>\n",
       "    <tr>\n",
       "      <th>191</th>\n",
       "      <td>Australia</td>\n",
       "      <td>From the little-known region of Padthaway, thi...</td>\n",
       "      <td>The Trial of John Montford</td>\n",
       "      <td>87</td>\n",
       "      <td>30.0</td>\n",
       "      <td>South Australia</td>\n",
       "      <td>Padthaway</td>\n",
       "      <td>NaN</td>\n",
       "      <td>Joe Czerwinski</td>\n",
       "      <td>@JoeCz</td>\n",
       "      <td>Henry's Drive Vignerons 2006 The Trial of John...</td>\n",
       "      <td>Cabernet Sauvignon</td>\n",
       "      <td>Henry's Drive Vignerons</td>\n",
       "      <td>#471163</td>\n",
       "    </tr>\n",
       "    <tr>\n",
       "      <th>232</th>\n",
       "      <td>Australia</td>\n",
       "      <td>Lifted cedar and pine notes interspersed with ...</td>\n",
       "      <td>Red Belly Black</td>\n",
       "      <td>85</td>\n",
       "      <td>12.0</td>\n",
       "      <td>South Australia</td>\n",
       "      <td>South Australia</td>\n",
       "      <td>NaN</td>\n",
       "      <td>NaN</td>\n",
       "      <td>NaN</td>\n",
       "      <td>Angove's 2006 Red Belly Black Shiraz (South Au...</td>\n",
       "      <td>Shiraz</td>\n",
       "      <td>Angove's</td>\n",
       "      <td>#471669</td>\n",
       "    </tr>\n",
       "  </tbody>\n",
       "</table>\n",
       "</div>"
      ],
      "text/plain": [
       "       country                                        description  \\\n",
       "77   Australia  This medium-bodied Chardonnay features aromas ...   \n",
       "83   Australia  Pale copper in hue, this wine exudes passion f...   \n",
       "123  Australia  The blend is roughly two-thirds Shiraz and one...   \n",
       "191  Australia  From the little-known region of Padthaway, thi...   \n",
       "232  Australia  Lifted cedar and pine notes interspersed with ...   \n",
       "\n",
       "                    designation  points  price         province  \\\n",
       "77     Made With Organic Grapes      86   18.0  South Australia   \n",
       "83            Jester Sangiovese      86   20.0  South Australia   \n",
       "123               Parson's Flat      92   40.0  South Australia   \n",
       "191  The Trial of John Montford      87   30.0  South Australia   \n",
       "232             Red Belly Black      85   12.0  South Australia   \n",
       "\n",
       "            region_1  region_2     taster_name taster_twitter_handle  \\\n",
       "77   South Australia       NaN  Joe Czerwinski                @JoeCz   \n",
       "83      McLaren Vale       NaN  Joe Czerwinski                @JoeCz   \n",
       "123        Padthaway       NaN  Joe Czerwinski                @JoeCz   \n",
       "191        Padthaway       NaN  Joe Czerwinski                @JoeCz   \n",
       "232  South Australia       NaN             NaN                   NaN   \n",
       "\n",
       "                                                 title  \\\n",
       "77   Yalumba 2016 Made With Organic Grapes Chardonn...   \n",
       "83   Mitolo 2016 Jester Sangiovese Rosé (McLaren Vale)   \n",
       "123  Henry's Drive Vignerons 2006 Parson's Flat Shi...   \n",
       "191  Henry's Drive Vignerons 2006 The Trial of John...   \n",
       "232  Angove's 2006 Red Belly Black Shiraz (South Au...   \n",
       "\n",
       "                       variety                   winery variety_color  \n",
       "77                  Chardonnay                  Yalumba       #440154  \n",
       "83                        Rosé                   Mitolo       #450558  \n",
       "123  Shiraz-Cabernet Sauvignon  Henry's Drive Vignerons       #460B5E  \n",
       "191         Cabernet Sauvignon  Henry's Drive Vignerons       #471163  \n",
       "232                     Shiraz                 Angove's       #471669  "
      ]
     },
     "execution_count": 2,
     "metadata": {},
     "output_type": "execute_result"
    }
   ],
   "source": [
    "df = pd.read_csv(\"https://github.com/chris1610/pbpython/blob/master/data/Aussie_Wines_Plotting.csv?raw=true\", index_col=0)\n",
    "df.head()"
   ]
  },
  {
   "cell_type": "markdown",
   "metadata": {},
   "source": [
    "## Exercise 1\n",
    "請畫出資料中points欄位的直方圖，並主動設定分組數量為20"
   ]
  },
  {
   "cell_type": "code",
   "execution_count": null,
   "metadata": {},
   "outputs": [],
   "source": []
  },
  {
   "cell_type": "markdown",
   "metadata": {},
   "source": [
    "## Exercise 2\n",
    "觀察points與price之間的散佈圖"
   ]
  },
  {
   "cell_type": "code",
   "execution_count": null,
   "metadata": {},
   "outputs": [],
   "source": []
  },
  {
   "cell_type": "markdown",
   "metadata": {},
   "source": [
    "## Exercise 3\n",
    "請計算並畫出df資料中各個region_1出現次數的長條圖，並使用plt.xticks將長條圖標記旋轉60度\n",
    "\n",
    "(為避免長條圖數量過多，可在整理資料時只篩選前六名)"
   ]
  },
  {
   "cell_type": "code",
   "execution_count": null,
   "metadata": {},
   "outputs": [],
   "source": []
  },
  {
   "cell_type": "markdown",
   "metadata": {},
   "source": [
    "## Exercise 4\n",
    "請依照每個省份(province)分別繪製一張points的機率密度函數圖。\n",
    "\n",
    "註：你可以使用subplot的方式，也可以直接使用FacetGrid作圖"
   ]
  },
  {
   "cell_type": "code",
   "execution_count": null,
   "metadata": {},
   "outputs": [],
   "source": []
  },
  {
   "cell_type": "markdown",
   "metadata": {},
   "source": [
    "---"
   ]
  },
  {
   "cell_type": "markdown",
   "metadata": {},
   "source": [
    "## 範例資料 2\n",
    "\n",
    "此份資料蒐集了google play store 中約一萬筆App的資料，若對資料敘述有興趣可至以下網站查看更多資訊。\n",
    "\n",
    "Credit: https://www.kaggle.com/lava18/google-play-store-apps#googleplaystore.csv"
   ]
  },
  {
   "cell_type": "code",
   "execution_count": 3,
   "metadata": {},
   "outputs": [],
   "source": [
    "df = pd.read_csv('dataset/googleplaystore.csv')\n",
    "\n",
    "# 將評分人數統一改為數字型態\n",
    "df['Reviews'] = df.Reviews.str.replace('3.0M', '300000').astype('int')"
   ]
  },
  {
   "cell_type": "code",
   "execution_count": 4,
   "metadata": {},
   "outputs": [
    {
     "data": {
      "text/html": [
       "<div>\n",
       "<style scoped>\n",
       "    .dataframe tbody tr th:only-of-type {\n",
       "        vertical-align: middle;\n",
       "    }\n",
       "\n",
       "    .dataframe tbody tr th {\n",
       "        vertical-align: top;\n",
       "    }\n",
       "\n",
       "    .dataframe thead th {\n",
       "        text-align: right;\n",
       "    }\n",
       "</style>\n",
       "<table border=\"1\" class=\"dataframe\">\n",
       "  <thead>\n",
       "    <tr style=\"text-align: right;\">\n",
       "      <th></th>\n",
       "      <th>App</th>\n",
       "      <th>Category</th>\n",
       "      <th>Rating</th>\n",
       "      <th>Reviews</th>\n",
       "      <th>Size</th>\n",
       "      <th>Installs</th>\n",
       "      <th>Type</th>\n",
       "      <th>Price</th>\n",
       "      <th>Content Rating</th>\n",
       "      <th>Genres</th>\n",
       "      <th>Last Updated</th>\n",
       "      <th>Current Ver</th>\n",
       "      <th>Android Ver</th>\n",
       "    </tr>\n",
       "  </thead>\n",
       "  <tbody>\n",
       "    <tr>\n",
       "      <th>0</th>\n",
       "      <td>Photo Editor &amp; Candy Camera &amp; Grid &amp; ScrapBook</td>\n",
       "      <td>ART_AND_DESIGN</td>\n",
       "      <td>4.1</td>\n",
       "      <td>159</td>\n",
       "      <td>19M</td>\n",
       "      <td>10,000+</td>\n",
       "      <td>Free</td>\n",
       "      <td>0</td>\n",
       "      <td>Everyone</td>\n",
       "      <td>Art &amp; Design</td>\n",
       "      <td>January 7, 2018</td>\n",
       "      <td>1.0.0</td>\n",
       "      <td>4.0.3 and up</td>\n",
       "    </tr>\n",
       "    <tr>\n",
       "      <th>1</th>\n",
       "      <td>Coloring book moana</td>\n",
       "      <td>ART_AND_DESIGN</td>\n",
       "      <td>3.9</td>\n",
       "      <td>967</td>\n",
       "      <td>14M</td>\n",
       "      <td>500,000+</td>\n",
       "      <td>Free</td>\n",
       "      <td>0</td>\n",
       "      <td>Everyone</td>\n",
       "      <td>Art &amp; Design;Pretend Play</td>\n",
       "      <td>January 15, 2018</td>\n",
       "      <td>2.0.0</td>\n",
       "      <td>4.0.3 and up</td>\n",
       "    </tr>\n",
       "    <tr>\n",
       "      <th>2</th>\n",
       "      <td>U Launcher Lite – FREE Live Cool Themes, Hide ...</td>\n",
       "      <td>ART_AND_DESIGN</td>\n",
       "      <td>4.7</td>\n",
       "      <td>87510</td>\n",
       "      <td>8.7M</td>\n",
       "      <td>5,000,000+</td>\n",
       "      <td>Free</td>\n",
       "      <td>0</td>\n",
       "      <td>Everyone</td>\n",
       "      <td>Art &amp; Design</td>\n",
       "      <td>August 1, 2018</td>\n",
       "      <td>1.2.4</td>\n",
       "      <td>4.0.3 and up</td>\n",
       "    </tr>\n",
       "    <tr>\n",
       "      <th>3</th>\n",
       "      <td>Sketch - Draw &amp; Paint</td>\n",
       "      <td>ART_AND_DESIGN</td>\n",
       "      <td>4.5</td>\n",
       "      <td>215644</td>\n",
       "      <td>25M</td>\n",
       "      <td>50,000,000+</td>\n",
       "      <td>Free</td>\n",
       "      <td>0</td>\n",
       "      <td>Teen</td>\n",
       "      <td>Art &amp; Design</td>\n",
       "      <td>June 8, 2018</td>\n",
       "      <td>Varies with device</td>\n",
       "      <td>4.2 and up</td>\n",
       "    </tr>\n",
       "    <tr>\n",
       "      <th>4</th>\n",
       "      <td>Pixel Draw - Number Art Coloring Book</td>\n",
       "      <td>ART_AND_DESIGN</td>\n",
       "      <td>4.3</td>\n",
       "      <td>967</td>\n",
       "      <td>2.8M</td>\n",
       "      <td>100,000+</td>\n",
       "      <td>Free</td>\n",
       "      <td>0</td>\n",
       "      <td>Everyone</td>\n",
       "      <td>Art &amp; Design;Creativity</td>\n",
       "      <td>June 20, 2018</td>\n",
       "      <td>1.1</td>\n",
       "      <td>4.4 and up</td>\n",
       "    </tr>\n",
       "  </tbody>\n",
       "</table>\n",
       "</div>"
      ],
      "text/plain": [
       "                                                 App        Category  Rating  \\\n",
       "0     Photo Editor & Candy Camera & Grid & ScrapBook  ART_AND_DESIGN     4.1   \n",
       "1                                Coloring book moana  ART_AND_DESIGN     3.9   \n",
       "2  U Launcher Lite – FREE Live Cool Themes, Hide ...  ART_AND_DESIGN     4.7   \n",
       "3                              Sketch - Draw & Paint  ART_AND_DESIGN     4.5   \n",
       "4              Pixel Draw - Number Art Coloring Book  ART_AND_DESIGN     4.3   \n",
       "\n",
       "   Reviews  Size     Installs  Type Price Content Rating  \\\n",
       "0      159   19M      10,000+  Free     0       Everyone   \n",
       "1      967   14M     500,000+  Free     0       Everyone   \n",
       "2    87510  8.7M   5,000,000+  Free     0       Everyone   \n",
       "3   215644   25M  50,000,000+  Free     0           Teen   \n",
       "4      967  2.8M     100,000+  Free     0       Everyone   \n",
       "\n",
       "                      Genres      Last Updated         Current Ver  \\\n",
       "0               Art & Design   January 7, 2018               1.0.0   \n",
       "1  Art & Design;Pretend Play  January 15, 2018               2.0.0   \n",
       "2               Art & Design    August 1, 2018               1.2.4   \n",
       "3               Art & Design      June 8, 2018  Varies with device   \n",
       "4    Art & Design;Creativity     June 20, 2018                 1.1   \n",
       "\n",
       "    Android Ver  \n",
       "0  4.0.3 and up  \n",
       "1  4.0.3 and up  \n",
       "2  4.0.3 and up  \n",
       "3    4.2 and up  \n",
       "4    4.4 and up  "
      ]
     },
     "execution_count": 4,
     "metadata": {},
     "output_type": "execute_result"
    }
   ],
   "source": [
    "df.head()"
   ]
  },
  {
   "cell_type": "markdown",
   "metadata": {},
   "source": [
    "## Exercise 5\n",
    "請繪製評分分數(Rating)評分人數(Reviews)的散佈圖，並且將不同的App付費類型(Type)以不同顏色標示\n",
    "\n",
    "- 註：有沒有發現甚麼比較奇怪的事情?"
   ]
  },
  {
   "cell_type": "code",
   "execution_count": null,
   "metadata": {},
   "outputs": [],
   "source": []
  },
  {
   "cell_type": "markdown",
   "metadata": {},
   "source": [
    "## Exercise 6\n",
    "\n",
    "請挑出資料中類別(Category)為FAMILY、GAME、以及TOOLS的App資料，並且分別繪製這三個類型評分分數(Rating)的小提琴圖。"
   ]
  },
  {
   "cell_type": "code",
   "execution_count": null,
   "metadata": {},
   "outputs": [],
   "source": []
  },
  {
   "cell_type": "markdown",
   "metadata": {},
   "source": [
    "## Exercise 7\n",
    "將資料中付費類型(Type)與年齡層(Content Rating)內各組的平均評分(Rating)繪製成熱力圖。\n",
    "\n",
    "註：你必須先使用pivot_table方法整理資料"
   ]
  },
  {
   "cell_type": "code",
   "execution_count": null,
   "metadata": {},
   "outputs": [],
   "source": []
  },
  {
   "cell_type": "markdown",
   "metadata": {},
   "source": [
    "## Exercise 8\n",
    "下圖呈現不同類別與付費類型的App在評分上的差異，圖中的x軸為App類別(Category，只需挑選FAMILY, GAME, TOOLS三類)，y軸為評分分數(Rating)的最小值，顏色則為付費類型(Type)。請繪製出此圖。\n",
    "\n",
    "<img src=\"./Slides_image/exercise_8.PNG\" width=600/>"
   ]
  },
  {
   "cell_type": "code",
   "execution_count": null,
   "metadata": {},
   "outputs": [],
   "source": []
  }
 ],
 "metadata": {
  "kernelspec": {
   "display_name": "Python 3",
   "language": "python",
   "name": "python3"
  },
  "language_info": {
   "codemirror_mode": {
    "name": "ipython",
    "version": 3
   },
   "file_extension": ".py",
   "mimetype": "text/x-python",
   "name": "python",
   "nbconvert_exporter": "python",
   "pygments_lexer": "ipython3",
   "version": "3.7.3"
  }
 },
 "nbformat": 4,
 "nbformat_minor": 4
}
